{
 "cells": [
  {
   "cell_type": "markdown",
   "metadata": {
    "Collapsed": "false"
   },
   "source": [
    "# HW 2 - Analysis 2 - Wrangling csv files"
   ]
  },
  {
   "cell_type": "markdown",
   "metadata": {
    "Collapsed": "false"
   },
   "source": [
    "## Preliminaries"
   ]
  },
  {
   "cell_type": "code",
   "execution_count": 9,
   "metadata": {
    "Collapsed": "false"
   },
   "outputs": [],
   "source": [
    "# To auto-reload modules in jupyter notebook (so that changes in files *.py doesn't require manual reloading):\n",
    "# https://stackoverflow.com/questions/5364050/reloading-submodules-in-ipython\n",
    "%load_ext autoreload\n",
    "%autoreload 2"
   ]
  },
  {
   "cell_type": "markdown",
   "metadata": {
    "Collapsed": "false"
   },
   "source": [
    "Import commonly used libraries and magic command for inline plotting"
   ]
  },
  {
   "cell_type": "code",
   "execution_count": 12,
   "metadata": {
    "Collapsed": "false"
   },
   "outputs": [],
   "source": [
    "import numpy as np\n",
    "import pandas as pd\n",
    "import matplotlib.pyplot as plt\n",
    "import seaborn as sns"
   ]
  },
  {
   "cell_type": "code",
   "execution_count": 13,
   "metadata": {},
   "outputs": [],
   "source": [
    "%matplotlib inline"
   ]
  },
  {
   "cell_type": "markdown",
   "metadata": {
    "Collapsed": "false"
   },
   "source": [
    "## Step 1 – Consolidation"
   ]
  },
  {
   "cell_type": "markdown",
   "metadata": {},
   "source": [
    "Create blank Excel file named BCM.xlsx\n",
    "\n",
    "a.\tUse the openpyxl library to do this with Python. The openpyxl library is already installed in the aap conda virtual environment.\n",
    "\n",
    "b.\tYou can simply hard code the filename BCM.xlsx. \n",
    "\n",
    "c.\tWhen you save the blank notebook using openpyxl, it will have one sheet in it (which is totally fine).\n",
    "\n",
    "https://medium.com/@anushkamahajan901/how-to-create-an-excel-file-using-python-a-beginners-guide-72e5d98c8e97"
   ]
  },
  {
   "cell_type": "code",
   "execution_count": 23,
   "metadata": {
    "tags": []
   },
   "outputs": [],
   "source": [
    "import openpyxl\n",
    "import csv"
   ]
  },
  {
   "cell_type": "code",
   "execution_count": 31,
   "metadata": {
    "tags": []
   },
   "outputs": [
    {
     "name": "stdout",
     "output_type": "stream",
     "text": [
      "Excel file created successfully!\n"
     ]
    }
   ],
   "source": [
    "# create a new workbook\n",
    "workbook = openpyxl.Workbook()\n",
    "\n",
    "# Save the workbook to a file\n",
    "workbook.save(\"./data/BCM.xlsx\")\n",
    "\n",
    "# Print a success message\n",
    "print(\"Excel file created successfully!\")"
   ]
  },
  {
   "cell_type": "markdown",
   "metadata": {},
   "source": [
    "Combine all of the csv files in a single Excel workbook – one csv file per sheet. The sheet names should be the name of the csv file but without the csv extension. It’s ok if the first sheet is just a blank sheet followed by all of the data sheets for the csv files.\n",
    "\n",
    "The Excel file should be named using just the characters in the filenames before the first hyphen. For the logs I’ve given you, the file will be called BCM.xlsx.\n",
    "\n",
    "Each data sheet should have the following column headers in A1:C1 – datetime, scale, temperature."
   ]
  },
  {
   "cell_type": "markdown",
   "metadata": {},
   "source": [
    "Insert the contents of each csv into a new sheet in BCM.xlsx\n",
    "\n",
    "a.\tFor this I used pandas and pathlib. Just used file globbing and a loop.\n",
    "\n",
    "b.\tRead each csv into a pandas dataframe. HINT: Look at the pandas read_csv documentation to see what useful things you can accomplish during the file reading process.\n",
    "\n",
    "c.\tInserted each dataframe into the Excel file using the appropriate dataframe method."
   ]
  },
  {
   "cell_type": "code",
   "execution_count": null,
   "metadata": {},
   "outputs": [],
   "source": []
  }
 ],
 "metadata": {
  "kernelspec": {
   "display_name": "Python [conda env:aap]",
   "language": "python",
   "name": "conda-env-aap-py"
  },
  "language_info": {
   "codemirror_mode": {
    "name": "ipython",
    "version": 3
   },
   "file_extension": ".py",
   "mimetype": "text/x-python",
   "name": "python",
   "nbconvert_exporter": "python",
   "pygments_lexer": "ipython3",
   "version": "3.12.3"
  },
  "toc-autonumbering": true
 },
 "nbformat": 4,
 "nbformat_minor": 4
}
