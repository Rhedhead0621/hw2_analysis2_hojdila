{
 "cells": [
  {
   "cell_type": "markdown",
   "metadata": {
    "Collapsed": "false"
   },
   "source": [
    "# HW 2 - Analysis 2 - Wrangling csv files"
   ]
  },
  {
   "cell_type": "markdown",
   "metadata": {
    "Collapsed": "false"
   },
   "source": [
    "## Preliminaries"
   ]
  },
  {
   "cell_type": "code",
   "execution_count": 147,
   "metadata": {
    "Collapsed": "false"
   },
   "outputs": [
    {
     "name": "stdout",
     "output_type": "stream",
     "text": [
      "The autoreload extension is already loaded. To reload it, use:\n",
      "  %reload_ext autoreload\n"
     ]
    }
   ],
   "source": [
    "# To auto-reload modules in jupyter notebook (so that changes in files *.py doesn't require manual reloading):\n",
    "# https://stackoverflow.com/questions/5364050/reloading-submodules-in-ipython\n",
    "%load_ext autoreload\n",
    "%autoreload 2"
   ]
  },
  {
   "cell_type": "markdown",
   "metadata": {
    "Collapsed": "false"
   },
   "source": [
    "Import commonly used libraries and magic command for inline plotting"
   ]
  },
  {
   "cell_type": "code",
   "execution_count": 150,
   "metadata": {
    "Collapsed": "false"
   },
   "outputs": [],
   "source": [
    "import numpy as np\n",
    "import pandas as pd\n",
    "import matplotlib.pyplot as plt\n",
    "import seaborn as sns"
   ]
  },
  {
   "cell_type": "code",
   "execution_count": 152,
   "metadata": {},
   "outputs": [],
   "source": [
    "%matplotlib inline"
   ]
  },
  {
   "cell_type": "markdown",
   "metadata": {
    "Collapsed": "false"
   },
   "source": [
    "## Step 1 – Consolidation"
   ]
  },
  {
   "cell_type": "markdown",
   "metadata": {},
   "source": [
    "Create blank Excel file named BCM.xlsx\n",
    "\n",
    "a.\tUse the openpyxl library to do this with Python. The openpyxl library is already installed in the aap conda virtual environment.\n",
    "\n",
    "b.\tYou can simply hard code the filename BCM.xlsx. \n",
    "\n",
    "c.\tWhen you save the blank notebook using openpyxl, it will have one sheet in it (which is totally fine).\n",
    "\n",
    "https://medium.com/@anushkamahajan901/how-to-create-an-excel-file-using-python-a-beginners-guide-72e5d98c8e97"
   ]
  },
  {
   "cell_type": "code",
   "execution_count": 163,
   "metadata": {
    "tags": []
   },
   "outputs": [],
   "source": [
    "import openpyxl\n",
    "import csv"
   ]
  },
  {
   "cell_type": "markdown",
   "metadata": {},
   "source": [
    "Combine all of the csv files in a single Excel workbook – one csv file per sheet. The sheet names should be the name of the csv file but without the csv extension. It’s ok if the first sheet is just a blank sheet followed by all of the data sheets for the csv files.\n",
    "\n",
    "The Excel file should be named using just the characters in the filenames before the first hyphen. For the logs I’ve given you, the file will be called BCM.xlsx.\n",
    "\n",
    "Each data sheet should have the following column headers in A1:C1 – datetime, scale, temperature."
   ]
  },
  {
   "cell_type": "markdown",
   "metadata": {},
   "source": [
    "Insert the contents of each csv into a new sheet in BCM.xlsx\n",
    "\n",
    "a.\tFor this I used pandas and pathlib. Just used file globbing and a loop.\n",
    "\n",
    "b.\tRead each csv into a pandas dataframe. HINT: Look at the pandas read_csv documentation to see what useful things you can accomplish during the file reading process.\n",
    "\n",
    "c.\tInserted each dataframe into the Excel file using the appropriate dataframe method."
   ]
  },
  {
   "cell_type": "markdown",
   "metadata": {},
   "source": [
    "https://www.tutorialspoint.com/How-to-copy-files-to-a-new-directory-using-Python#:~:text=By%20using%20glob.,copy()."
   ]
  },
  {
   "cell_type": "code",
   "execution_count": 168,
   "metadata": {
    "tags": []
   },
   "outputs": [],
   "source": [
    "# Copy original files\n",
    "import shutil\n",
    "import glob\n",
    "\n",
    "# Specify the source directory path\n",
    "source_directory = './data/logs/'\n",
    "\n",
    "# Specify the destination directory path\n",
    "destination_directory = './data/log_copies/'\n",
    "\n",
    "# Get a list of all files in the source directory\n",
    "files = glob.glob(source_directory + '/*')\n",
    "\n",
    "# Copy each file to the destination directory\n",
    "for file in files:\n",
    "   shutil.copy(file, destination_directory)"
   ]
  },
  {
   "cell_type": "code",
   "execution_count": 170,
   "metadata": {
    "tags": []
   },
   "outputs": [
    {
     "name": "stdout",
     "output_type": "stream",
     "text": [
      "Excel file created successfully!\n"
     ]
    }
   ],
   "source": [
    "# create a new workbook\n",
    "workbook = openpyxl.Workbook()\n",
    "\n",
    "# Save the workbook to a file\n",
    "workbook.save(\"./data/log_copies/BCM.xlsx\")\n",
    "\n",
    "# Print a success message\n",
    "print(\"Excel file created successfully!\")"
   ]
  },
  {
   "cell_type": "markdown",
   "metadata": {},
   "source": [
    "https://stackoverflow.com/questions/60026948/adding-a-header-row-with-values-for-each-column-to-multiple-csv-files#:~:text=Read_csv%20has%20a%20names%20parameter,csv%20files."
   ]
  },
  {
   "cell_type": "code",
   "execution_count": 172,
   "metadata": {
    "tags": []
   },
   "outputs": [],
   "source": [
    "import os\n",
    "from pandas import read_csv \n",
    "path = './data/log_copies/'\n",
    "filelist = glob.glob(path + \"/BCM*.csv\")\n",
    "df_list = []\n",
    "for file in filelist:\n",
    "# you also dont need to add path, the glob should already have the full path\n",
    "    df2 = read_csv(file,names=['datetime','scale','temperature'])\n",
    "    ## save out files\n",
    "    df2.to_csv(file,index=False)\n",
    "    df_list.append(df2)\n",
    "frame = pd.concat(df_list)"
   ]
  },
  {
   "cell_type": "code",
   "execution_count": 174,
   "metadata": {
    "tags": []
   },
   "outputs": [
    {
     "name": "stdout",
     "output_type": "stream",
     "text": [
      "['./data/log_copies\\\\BCM-E-tCenter-Deep.csv', './data/log_copies\\\\BCM-E-tCenter-Medium.csv', './data/log_copies\\\\BCM-E-tCenter-Shallow.csv', './data/log_copies\\\\BCM-E-tLeft-Deep.csv', './data/log_copies\\\\BCM-E-tLeft-Medium.csv', './data/log_copies\\\\BCM-E-tRight-Deep.csv', './data/log_copies\\\\BCM-E-tRight-Medium.csv', './data/log_copies\\\\BCM-N-tCenter-Deep.csv', './data/log_copies\\\\BCM-N-tCenter-Medium.csv', './data/log_copies\\\\BCM-N-tLeft-Deep.csv', './data/log_copies\\\\BCM-N-tLeft-Medium.csv', './data/log_copies\\\\BCM-N-tRight-Deep.csv', './data/log_copies\\\\BCM-N-tRight-Medium.csv', './data/log_copies\\\\BCM-N-tRight-Shallow.csv']\n"
     ]
    }
   ],
   "source": [
    "print(filelist)"
   ]
  },
  {
   "cell_type": "code",
   "execution_count": 176,
   "metadata": {
    "tags": []
   },
   "outputs": [
    {
     "data": {
      "text/html": [
       "<div>\n",
       "<style scoped>\n",
       "    .dataframe tbody tr th:only-of-type {\n",
       "        vertical-align: middle;\n",
       "    }\n",
       "\n",
       "    .dataframe tbody tr th {\n",
       "        vertical-align: top;\n",
       "    }\n",
       "\n",
       "    .dataframe thead th {\n",
       "        text-align: right;\n",
       "    }\n",
       "</style>\n",
       "<table border=\"1\" class=\"dataframe\">\n",
       "  <thead>\n",
       "    <tr style=\"text-align: right;\">\n",
       "      <th></th>\n",
       "      <th>datetime</th>\n",
       "      <th>scale</th>\n",
       "      <th>temperature</th>\n",
       "    </tr>\n",
       "  </thead>\n",
       "  <tbody>\n",
       "    <tr>\n",
       "      <th>0</th>\n",
       "      <td>8/19/2012 12:17</td>\n",
       "      <td>C</td>\n",
       "      <td>20.0</td>\n",
       "    </tr>\n",
       "    <tr>\n",
       "      <th>1</th>\n",
       "      <td>8/19/2012 13:17</td>\n",
       "      <td>C</td>\n",
       "      <td>20.0</td>\n",
       "    </tr>\n",
       "    <tr>\n",
       "      <th>2</th>\n",
       "      <td>8/19/2012 14:17</td>\n",
       "      <td>C</td>\n",
       "      <td>20.5</td>\n",
       "    </tr>\n",
       "    <tr>\n",
       "      <th>3</th>\n",
       "      <td>8/19/2012 15:17</td>\n",
       "      <td>C</td>\n",
       "      <td>21.0</td>\n",
       "    </tr>\n",
       "    <tr>\n",
       "      <th>4</th>\n",
       "      <td>8/19/2012 16:17</td>\n",
       "      <td>C</td>\n",
       "      <td>21.0</td>\n",
       "    </tr>\n",
       "  </tbody>\n",
       "</table>\n",
       "</div>"
      ],
      "text/plain": [
       "          datetime scale  temperature\n",
       "0  8/19/2012 12:17     C         20.0\n",
       "1  8/19/2012 13:17     C         20.0\n",
       "2  8/19/2012 14:17     C         20.5\n",
       "3  8/19/2012 15:17     C         21.0\n",
       "4  8/19/2012 16:17     C         21.0"
      ]
     },
     "execution_count": 176,
     "metadata": {},
     "output_type": "execute_result"
    }
   ],
   "source": [
    "# Check the header\n",
    "df = pd.read_csv('./data/log_copies/BCM-E-tCenter-Deep.csv')\n",
    "df.head()"
   ]
  },
  {
   "cell_type": "code",
   "execution_count": 178,
   "metadata": {
    "tags": []
   },
   "outputs": [],
   "source": [
    "from pathlib import Path\n",
    "\n",
    "path = \"./data/log_copies/\"\n",
    "\n",
    "def write_sheets(file_map: dict) -> None:\n",
    "    with pd.ExcelWriter(f\"{path}/BCM.xlsx\", engine=\"xlsxwriter\") as writer:\n",
    "        [df.to_excel(writer, sheet_name=sheet_name, index=False) for sheet_name, df in file_map.items()]\n",
    "\n",
    "file_mapping = {Path(file).stem: pd.read_csv(file) for file in Path(path).glob(\"*csv\")}\n",
    "write_sheets(file_mapping)"
   ]
  },
  {
   "cell_type": "code",
   "execution_count": null,
   "metadata": {},
   "outputs": [],
   "source": []
  }
 ],
 "metadata": {
  "kernelspec": {
   "display_name": "Python [conda env:aap]",
   "language": "python",
   "name": "conda-env-aap-py"
  },
  "language_info": {
   "codemirror_mode": {
    "name": "ipython",
    "version": 3
   },
   "file_extension": ".py",
   "mimetype": "text/x-python",
   "name": "python",
   "nbconvert_exporter": "python",
   "pygments_lexer": "ipython3",
   "version": "3.12.3"
  },
  "toc-autonumbering": true
 },
 "nbformat": 4,
 "nbformat_minor": 4
}
