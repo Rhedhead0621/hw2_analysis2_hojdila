{
 "cells": [
  {
   "cell_type": "code",
   "execution_count": 8,
   "id": "f78416d2-987b-4f59-af1b-d8eeffa2f583",
   "metadata": {
    "tags": []
   },
   "outputs": [],
   "source": [
    "from pathlib import Path\n",
    "\n",
    "import pandas as pd\n",
    "\n",
    "path = \"./data/logs/\"\n",
    "\n",
    "\n",
    "def write_sheets(file_map: dict) -> None:\n",
    "    with pd.ExcelWriter(f\"{path}/BCM.xlsx\", engine=\"xlsxwriter\") as writer:\n",
    "        [df.to_excel(writer, sheet_name=sheet_name, index=False) for sheet_name, df in file_map.items()]\n",
    "\n",
    "\n",
    "file_mapping = {Path(file).stem: pd.read_csv(file) for file in Path(path).glob(\"*csv\")}\n",
    "write_sheets(file_mapping)"
   ]
  },
  {
   "cell_type": "code",
   "execution_count": null,
   "id": "1dab8c29-a49c-4ffd-80ee-6f8a5fef4424",
   "metadata": {},
   "outputs": [],
   "source": []
  }
 ],
 "metadata": {
  "kernelspec": {
   "display_name": "Python [conda env:aap]",
   "language": "python",
   "name": "conda-env-aap-py"
  },
  "language_info": {
   "codemirror_mode": {
    "name": "ipython",
    "version": 3
   },
   "file_extension": ".py",
   "mimetype": "text/x-python",
   "name": "python",
   "nbconvert_exporter": "python",
   "pygments_lexer": "ipython3",
   "version": "3.12.3"
  }
 },
 "nbformat": 4,
 "nbformat_minor": 5
}
