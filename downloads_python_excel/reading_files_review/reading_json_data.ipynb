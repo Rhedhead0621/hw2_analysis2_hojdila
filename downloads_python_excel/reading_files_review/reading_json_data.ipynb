{
 "cells": [
  {
   "cell_type": "markdown",
   "metadata": {},
   "source": [
    "# Reading JSON data\n",
    "\n",
    "This notebook is based on the **JSON Data** section Chapter 3 of [Data Wrangling with Python (DWwP)](https://www.oreilly.com/library/view/data-wrangling-with/9781491948804/).\n",
    "\n",
    "JSON is a widely used, lightweight, human and machine readable, data interchange format. You can find the JSON spec at http://www.json.org/. JSON leans on two main data structures:\n",
    "\n",
    "- a collection of name/value pairs. We call these pairs, *objects*.\n",
    "- an ordered list of values. We call these *arrays*. \n",
    "\n",
    "A collection of name value pairs looks suspiciously like a Python dict. The ordered list of values looks like a Python list in that it starts and ends with square brackets and the items are separated by commas. The values in the arrays can be simple things like strings or numbers but can also be more complicated things like objects or another array. We can nest as much as we want.\n",
    "\n",
    "Most programming languages have tools for reading, parsing and writing JSON files. \n",
    "\n",
    "Here's a little bit of the `data/data-text.json` file:\n",
    "\n",
    "[\n",
    "  {\n",
    "    \"Indicator\":\"Life expectancy at birth (years)\",\n",
    "    \"PUBLISH STATES\":\"Published\",\n",
    "    \"Year\":1990,\n",
    "    \"WHO region\":\"Europe\",\n",
    "    \"World Bank income group\":\"High-income\",\n",
    "    \"Country\":\"Andorra\",\n",
    "    \"Sex\":\"Both sexes\",\n",
    "    \"Display Value\":77,\n",
    "    \"Numeric\":77.00000,\n",
    "    \"Low\":\"\",\n",
    "    \"High\":\"\",\n",
    "    \"Comments\":\"\"\n",
    "  },\n",
    "  {\n",
    "    \"Indicator\":\"Life expectancy at birth (years)\",\n",
    "    \"PUBLISH STATES\":\"Published\",\n",
    "    \"Year\":2000,\n",
    "    \"WHO region\":\"Europe\",\n",
    "    \"World Bank income group\":\"High-income\",\n",
    "    \"Country\":\"Andorra\",\n",
    "    \"Sex\":\"Both sexes\",\n",
    "    \"Display Value\":80,\n",
    "    \"Numeric\":80.00000,\n",
    "    \"Low\":\"\",\n",
    "    \"High\":\"\",\n",
    "    \"Comments\":\"\"\n",
    "  },\n",
    "  \n",
    "... a bunch more \n",
    "\n",
    "  {\n",
    "    \"Indicator\":\"Healthy life expectancy (HALE) at birth (years)\",\n",
    "    \"PUBLISH STATES\":\"Published\",\n",
    "    \"Year\":2012,\n",
    "    \"WHO region\":\"Africa\",\n",
    "    \"World Bank income group\":\"Low-income\",\n",
    "    \"Country\":\"Zimbabwe\",\n",
    "    \"Sex\":\"Female\",\n",
    "    \"Display Value\":51,\n",
    "    \"Numeric\":51.00000,\n",
    "    \"Low\":\"\",\n",
    "    \"High\":\"\",\n",
    "    \"Comments\":\"\"\n",
    "  }\n",
    "]\n",
    "\n",
    "In terms of Python data structures, how would you describe the data above?"
   ]
  },
  {
   "cell_type": "markdown",
   "metadata": {},
   "source": [
    "### How to Import JSON Data\n",
    "Here's the code for importing the JSON data. It's similar to the CSV example, but with some important differences. Identifying these differences will help you as you learn to program in Python"
   ]
  },
  {
   "cell_type": "code",
   "execution_count": null,
   "metadata": {
    "tags": []
   },
   "outputs": [],
   "source": [
    "import json\n",
    "\n",
    "with open('data/data-text.json', 'r') as who_file:\n",
    "    json_data = who_file.read()\n",
    "\n",
    "data = json.loads(json_data)\n",
    "print(f'data is a {type(data)}\\n')\n",
    "\n",
    "# Just print out the first few items\n",
    "for item in data[:2]:\n",
    "    print(item)\n",
    "\n",
    "print(f'\\nEach item is a {type(item)}')"
   ]
  },
  {
   "cell_type": "markdown",
   "metadata": {},
   "source": [
    "Clearly the first line:\n",
    "\n",
    "    import json\n",
    "    \n",
    "imports the `json` library (instead of the `csv` library).\n",
    "\n",
    "However, it's the next two lines that are really quite different than the `csv` example. Let's\n",
    "run the Jupyter notebook `whos` command so that we can see some detailed data type information\n",
    "for the variables in this code. Then we should be able to figure out what's going on."
   ]
  },
  {
   "cell_type": "code",
   "execution_count": null,
   "metadata": {},
   "outputs": [],
   "source": [
    "whos"
   ]
  },
  {
   "cell_type": "markdown",
   "metadata": {},
   "source": [
    "From the last example, we know that the Python `open()` function returns a file object. So, seems likely that `read()` is a method of a file object that, obviously, reads the file. What do you think this method returns? Just look at the output of the `whos` command above. \n",
    "\n",
    "A few relevant links are:\n",
    "\n",
    "- https://docs.python.org/3/tutorial/inputoutput.html\n",
    "- http://www.tutorialspoint.com/python/python_files_io.htm\n",
    "- http://learnpythonthehardway.org/book/ex15.html"
   ]
  },
  {
   "cell_type": "markdown",
   "metadata": {},
   "source": [
    "So, to summarize:\n",
    "\n",
    "* CSV example  --> used `open` to return a file object for the file we want to read\n",
    "* JSON example --> used `open().read()` to return a string containing the contents of the file\n",
    "\n",
    "Why the difference? Well, it simply boils down to doing what is needed to use other methods of the `csv` or `json` libraries to get the job done.\n",
    "\n",
    "* The `csv.reader()` function requires a file object as its input\n",
    "* the `json.loads()` function requires a string as its input\n",
    "\n",
    "Reading a JSON file in Python is pretty easy. The harder work is what comes next. You need to figure out the, possibly nested, structure. There are almost always going to be dictionaries involved and a good first step is looking at the keys."
   ]
  },
  {
   "cell_type": "code",
   "execution_count": null,
   "metadata": {},
   "outputs": [],
   "source": [
    "print(data[0].keys())"
   ]
  },
  {
   "cell_type": "markdown",
   "metadata": {
    "tags": []
   },
   "source": [
    "## The bottom line and a look ahead\n",
    "We've learned how to use Python's built in `json` library to read JSON files into a list of dictionaries. This is a common precursor to doing data cleanup and other data preparation tasks before moving on to data analysis. As you start working with more complex JSON files, you'll come to appreciate the flexibility provided by Python dictionaries. For example, the *value* in a *key-value* pair in a dictionary can itself be another dictionary! This makes it easy to store and manipulate hierarchical data. Not all data is tabular. For example, consider this index of files available at one of the SEC web pages: https://www.sec.gov/Archives/edgar/full-index/2019/QTR1/index.json"
   ]
  },
  {
   "cell_type": "code",
   "execution_count": null,
   "metadata": {
    "tags": []
   },
   "outputs": [],
   "source": []
  }
 ],
 "metadata": {
  "anaconda-cloud": {},
  "kernelspec": {
   "display_name": "Python 3 (ipykernel)",
   "language": "python",
   "name": "python3"
  },
  "language_info": {
   "codemirror_mode": {
    "name": "ipython",
    "version": 3
   },
   "file_extension": ".py",
   "mimetype": "text/x-python",
   "name": "python",
   "nbconvert_exporter": "python",
   "pygments_lexer": "ipython3",
   "version": "3.9.13"
  }
 },
 "nbformat": 4,
 "nbformat_minor": 4
}
